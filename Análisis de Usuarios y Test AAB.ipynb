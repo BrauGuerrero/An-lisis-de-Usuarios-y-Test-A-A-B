{
 "cells": [
  {
   "cell_type": "markdown",
   "metadata": {},
   "source": [
    "# Prueba A/A/B en una app de productos alimenticios"
   ]
  },
  {
   "cell_type": "markdown",
   "metadata": {},
   "source": [
    "## Inicialización"
   ]
  },
  {
   "cell_type": "markdown",
   "metadata": {},
   "source": [
    "Se cargan las librerías."
   ]
  },
  {
   "cell_type": "code",
   "execution_count": 5,
   "metadata": {},
   "outputs": [],
   "source": [
    "import pandas as pd\n",
    "from matplotlib import pyplot as plt\n",
    "import plotly.graph_objects as go\n",
    "import numpy as np\n",
    "from scipy import stats as st\n",
    "import math as mth"
   ]
  },
  {
   "cell_type": "markdown",
   "metadata": {},
   "source": [
    "Se cargan los datos."
   ]
  },
  {
   "cell_type": "code",
   "execution_count": 6,
   "metadata": {},
   "outputs": [],
   "source": [
    "df = pd.read_csv('logs_exp_us.csv')"
   ]
  },
  {
   "cell_type": "markdown",
   "metadata": {},
   "source": [
    "## Preparación de datos"
   ]
  },
  {
   "cell_type": "markdown",
   "metadata": {},
   "source": [
    "Se hace el preprocesamiento de datos y un análisis exploratorio para facilitar una comprensión inicial de los datos."
   ]
  },
  {
   "cell_type": "code",
   "execution_count": 7,
   "metadata": {},
   "outputs": [
    {
     "name": "stdout",
     "output_type": "stream",
     "text": [
      "      EventName\\tDeviceIDHash\\tEventTimestamp\\tExpId\n",
      "0  MainScreenAppear\\t4575588528974610257\\t1564029...\n",
      "1  MainScreenAppear\\t7416695313311560658\\t1564053...\n",
      "2  PaymentScreenSuccessful\\t3518123091307005509\\t...\n",
      "3  CartScreenAppear\\t3518123091307005509\\t1564054...\n",
      "4  PaymentScreenSuccessful\\t6217807653094995999\\t...\n",
      "5  CartScreenAppear\\t6217807653094995999\\t1564055...\n",
      "6  OffersScreenAppear\\t8351860793733343758\\t15640...\n",
      "7  MainScreenAppear\\t5682100281902512875\\t1564085...\n",
      "8  MainScreenAppear\\t1850981295691852772\\t1564086...\n",
      "9  MainScreenAppear\\t5407636962369102641\\t1564112...\n",
      "\n",
      "<class 'pandas.core.frame.DataFrame'>\n",
      "RangeIndex: 244126 entries, 0 to 244125\n",
      "Data columns (total 1 columns):\n",
      " #   Column                                       Non-Null Count   Dtype \n",
      "---  ------                                       --------------   ----- \n",
      " 0   EventName\tDeviceIDHash\tEventTimestamp\tExpId  244126 non-null  object\n",
      "dtypes: object(1)\n",
      "memory usage: 1.9+ MB\n"
     ]
    }
   ],
   "source": [
    "print(df.head(10))\n",
    "print()\n",
    "df.info()"
   ]
  },
  {
   "cell_type": "markdown",
   "metadata": {},
   "source": [
    "Se observa que el dataframe tiene '\\t' como separadores, por lo cual se hace la corrección."
   ]
  },
  {
   "cell_type": "code",
   "execution_count": 8,
   "metadata": {},
   "outputs": [
    {
     "name": "stdout",
     "output_type": "stream",
     "text": [
      "                 EventName         DeviceIDHash  EventTimestamp  ExpId\n",
      "0         MainScreenAppear  4575588528974610257      1564029816    246\n",
      "1         MainScreenAppear  7416695313311560658      1564053102    246\n",
      "2  PaymentScreenSuccessful  3518123091307005509      1564054127    248\n",
      "3         CartScreenAppear  3518123091307005509      1564054127    248\n",
      "4  PaymentScreenSuccessful  6217807653094995999      1564055322    248\n",
      "5         CartScreenAppear  6217807653094995999      1564055323    248\n",
      "6       OffersScreenAppear  8351860793733343758      1564066242    246\n",
      "7         MainScreenAppear  5682100281902512875      1564085677    246\n",
      "8         MainScreenAppear  1850981295691852772      1564086702    247\n",
      "9         MainScreenAppear  5407636962369102641      1564112112    246\n",
      "\n",
      "<class 'pandas.core.frame.DataFrame'>\n",
      "RangeIndex: 244126 entries, 0 to 244125\n",
      "Data columns (total 4 columns):\n",
      " #   Column          Non-Null Count   Dtype \n",
      "---  ------          --------------   ----- \n",
      " 0   EventName       244126 non-null  object\n",
      " 1   DeviceIDHash    244126 non-null  int64 \n",
      " 2   EventTimestamp  244126 non-null  int64 \n",
      " 3   ExpId           244126 non-null  int64 \n",
      "dtypes: int64(3), object(1)\n",
      "memory usage: 7.5+ MB\n"
     ]
    }
   ],
   "source": [
    "df = pd.read_csv('logs_exp_us.csv', sep='\\t')\n",
    "print(df.head(10))\n",
    "print()\n",
    "df.info()"
   ]
  },
  {
   "cell_type": "markdown",
   "metadata": {},
   "source": [
    "### Renombrar columnas"
   ]
  },
  {
   "cell_type": "markdown",
   "metadata": {},
   "source": [
    "Se renombran las columnas del dataframe pasándolas a formato snake case."
   ]
  },
  {
   "cell_type": "code",
   "execution_count": 9,
   "metadata": {},
   "outputs": [
    {
     "name": "stdout",
     "output_type": "stream",
     "text": [
      "Index(['event_name', 'device_id_hash', 'event_timestamp', 'exp_id'], dtype='object')\n"
     ]
    }
   ],
   "source": [
    "# Se renombran las columnas con un bucle for y se corrobora el cambio\n",
    "\n",
    "df.columns = ['event_name', 'device_id_hash', 'event_timestamp', 'exp_id']\n",
    "print(df.columns)"
   ]
  },
  {
   "cell_type": "markdown",
   "metadata": {},
   "source": [
    "### Corrección de datos"
   ]
  },
  {
   "cell_type": "markdown",
   "metadata": {},
   "source": [
    "#### Conversión de datos"
   ]
  },
  {
   "cell_type": "markdown",
   "metadata": {},
   "source": [
    "Se corrige el tipo de datos en las columnas"
   ]
  },
  {
   "cell_type": "code",
   "execution_count": 10,
   "metadata": {},
   "outputs": [
    {
     "name": "stdout",
     "output_type": "stream",
     "text": [
      "                event_name       device_id_hash     event_timestamp  exp_id\n",
      "0         MainScreenAppear  4575588528974610257 2019-07-25 04:43:36     246\n",
      "1         MainScreenAppear  7416695313311560658 2019-07-25 11:11:42     246\n",
      "2  PaymentScreenSuccessful  3518123091307005509 2019-07-25 11:28:47     248\n",
      "3         CartScreenAppear  3518123091307005509 2019-07-25 11:28:47     248\n",
      "4  PaymentScreenSuccessful  6217807653094995999 2019-07-25 11:48:42     248\n",
      "\n",
      "<class 'pandas.core.frame.DataFrame'>\n",
      "RangeIndex: 244126 entries, 0 to 244125\n",
      "Data columns (total 4 columns):\n",
      " #   Column           Non-Null Count   Dtype         \n",
      "---  ------           --------------   -----         \n",
      " 0   event_name       244126 non-null  object        \n",
      " 1   device_id_hash   244126 non-null  int64         \n",
      " 2   event_timestamp  244126 non-null  datetime64[ns]\n",
      " 3   exp_id           244126 non-null  int64         \n",
      "dtypes: datetime64[ns](1), int64(2), object(1)\n",
      "memory usage: 7.5+ MB\n"
     ]
    }
   ],
   "source": [
    "# Se corrige el tipo de datos en la columna 'date' del dataframe 'orders' a datetime\n",
    "\n",
    "df['event_timestamp'] = pd.to_datetime(df['event_timestamp'], unit='s')\n",
    "print(df.head())\n",
    "print()\n",
    "df.info()"
   ]
  },
  {
   "cell_type": "markdown",
   "metadata": {},
   "source": [
    "### Manejo de datos ausentes y duplicados"
   ]
  },
  {
   "cell_type": "markdown",
   "metadata": {},
   "source": [
    "No se encuentran datos ausentes en los dataframes, por lo que nos iremos directo con el manejo de datos duplicados."
   ]
  },
  {
   "cell_type": "markdown",
   "metadata": {},
   "source": [
    "#### Manejo de duplicados"
   ]
  },
  {
   "cell_type": "markdown",
   "metadata": {},
   "source": [
    "Se revisa si existen datos duplicados en el dataframe."
   ]
  },
  {
   "cell_type": "code",
   "execution_count": 11,
   "metadata": {},
   "outputs": [
    {
     "name": "stdout",
     "output_type": "stream",
     "text": [
      "Líneas duplicadas en el dataframe = 413\n"
     ]
    }
   ],
   "source": [
    "# Se revisa el dataframe\n",
    "\n",
    "print('Líneas duplicadas en el dataframe =', df.duplicated().sum())"
   ]
  },
  {
   "cell_type": "markdown",
   "metadata": {},
   "source": [
    "Se observan 413 líneas duplicadas, se indaga más sobre este hecho."
   ]
  },
  {
   "cell_type": "code",
   "execution_count": 12,
   "metadata": {},
   "outputs": [
    {
     "name": "stdout",
     "output_type": "stream",
     "text": [
      "                     event_name       device_id_hash     event_timestamp  \\\n",
      "453            MainScreenAppear  5613408041324010552 2019-07-30 08:19:44   \n",
      "2350           CartScreenAppear  1694940645335807244 2019-07-31 21:51:39   \n",
      "3573           MainScreenAppear   434103746454591587 2019-08-01 02:59:37   \n",
      "4076           MainScreenAppear  3761373764179762633 2019-08-01 03:47:46   \n",
      "4803           MainScreenAppear  2835328739789306622 2019-08-01 04:44:01   \n",
      "...                         ...                  ...                 ...   \n",
      "242329         MainScreenAppear  8870358373313968633 2019-08-07 19:26:44   \n",
      "242332  PaymentScreenSuccessful  4718002964983105693 2019-08-07 19:26:45   \n",
      "242360  PaymentScreenSuccessful  2382591782303281935 2019-08-07 19:27:29   \n",
      "242362         CartScreenAppear  2382591782303281935 2019-08-07 19:27:29   \n",
      "242635         MainScreenAppear  4097782667445790512 2019-08-07 19:36:58   \n",
      "\n",
      "        exp_id  \n",
      "453        248  \n",
      "2350       248  \n",
      "3573       248  \n",
      "4076       247  \n",
      "4803       248  \n",
      "...        ...  \n",
      "242329     247  \n",
      "242332     247  \n",
      "242360     246  \n",
      "242362     246  \n",
      "242635     246  \n",
      "\n",
      "[413 rows x 4 columns]\n"
     ]
    }
   ],
   "source": [
    "# Se visualizan las líneas duplicadas\n",
    "\n",
    "print(df[df.duplicated()])"
   ]
  },
  {
   "cell_type": "code",
   "execution_count": 13,
   "metadata": {},
   "outputs": [
    {
     "name": "stdout",
     "output_type": "stream",
     "text": [
      "              event_name       device_id_hash     event_timestamp  exp_id\n",
      "452     MainScreenAppear  5613408041324010552 2019-07-30 08:19:44     248\n",
      "453     MainScreenAppear  5613408041324010552 2019-07-30 08:19:44     248\n",
      "104383  MainScreenAppear  5613408041324010552 2019-08-03 18:41:30     248\n",
      "104628  MainScreenAppear  5613408041324010552 2019-08-03 18:51:19     248\n",
      "104637  MainScreenAppear  5613408041324010552 2019-08-03 18:51:37     248\n",
      "145276  MainScreenAppear  5613408041324010552 2019-08-05 06:33:51     248\n",
      "145550  MainScreenAppear  5613408041324010552 2019-08-05 06:42:12     248\n",
      "205860  MainScreenAppear  5613408041324010552 2019-08-06 17:25:35     248\n",
      "205869  MainScreenAppear  5613408041324010552 2019-08-06 17:25:51     248\n",
      "205915  MainScreenAppear  5613408041324010552 2019-08-06 17:26:40     248\n"
     ]
    }
   ],
   "source": [
    "# Se toma el primer 'device_id_hash' y se visualizan sus datos\n",
    "\n",
    "print(df[df['device_id_hash'] == 5613408041324010552].sort_values('event_timestamp'))"
   ]
  },
  {
   "cell_type": "code",
   "execution_count": 14,
   "metadata": {
    "scrolled": true
   },
   "outputs": [
    {
     "name": "stdout",
     "output_type": "stream",
     "text": [
      "                     event_name       device_id_hash     event_timestamp  \\\n",
      "2345           MainScreenAppear  1694940645335807244 2019-07-31 21:51:32   \n",
      "2346           CartScreenAppear  1694940645335807244 2019-07-31 21:51:37   \n",
      "2348           CartScreenAppear  1694940645335807244 2019-07-31 21:51:39   \n",
      "2349    PaymentScreenSuccessful  1694940645335807244 2019-07-31 21:51:39   \n",
      "2350           CartScreenAppear  1694940645335807244 2019-07-31 21:51:39   \n",
      "2351         OffersScreenAppear  1694940645335807244 2019-07-31 21:51:52   \n",
      "2353         OffersScreenAppear  1694940645335807244 2019-07-31 21:52:13   \n",
      "2370           CartScreenAppear  1694940645335807244 2019-07-31 21:54:52   \n",
      "2371    PaymentScreenSuccessful  1694940645335807244 2019-07-31 21:54:52   \n",
      "2996           MainScreenAppear  1694940645335807244 2019-08-01 00:56:10   \n",
      "3003           MainScreenAppear  1694940645335807244 2019-08-01 00:56:21   \n",
      "3004           MainScreenAppear  1694940645335807244 2019-08-01 00:56:32   \n",
      "3063           MainScreenAppear  1694940645335807244 2019-08-01 01:13:02   \n",
      "3064           CartScreenAppear  1694940645335807244 2019-08-01 01:13:06   \n",
      "3065           CartScreenAppear  1694940645335807244 2019-08-01 01:13:12   \n",
      "3066    PaymentScreenSuccessful  1694940645335807244 2019-08-01 01:13:12   \n",
      "3067           CartScreenAppear  1694940645335807244 2019-08-01 01:13:13   \n",
      "26330          MainScreenAppear  1694940645335807244 2019-08-01 15:22:56   \n",
      "26357        OffersScreenAppear  1694940645335807244 2019-08-01 15:23:42   \n",
      "26375        OffersScreenAppear  1694940645335807244 2019-08-01 15:24:35   \n",
      "31587          MainScreenAppear  1694940645335807244 2019-08-01 17:28:39   \n",
      "31590        OffersScreenAppear  1694940645335807244 2019-08-01 17:28:46   \n",
      "33915        OffersScreenAppear  1694940645335807244 2019-08-01 18:27:42   \n",
      "38302          MainScreenAppear  1694940645335807244 2019-08-01 21:27:51   \n",
      "38303        OffersScreenAppear  1694940645335807244 2019-08-01 21:27:56   \n",
      "38304        OffersScreenAppear  1694940645335807244 2019-08-01 21:28:14   \n",
      "38838          MainScreenAppear  1694940645335807244 2019-08-01 23:05:44   \n",
      "38839        OffersScreenAppear  1694940645335807244 2019-08-01 23:05:51   \n",
      "38841        OffersScreenAppear  1694940645335807244 2019-08-01 23:06:02   \n",
      "38880          MainScreenAppear  1694940645335807244 2019-08-01 23:11:38   \n",
      "38896          MainScreenAppear  1694940645335807244 2019-08-01 23:14:58   \n",
      "38901        OffersScreenAppear  1694940645335807244 2019-08-01 23:16:17   \n",
      "38905          MainScreenAppear  1694940645335807244 2019-08-01 23:18:25   \n",
      "38909          MainScreenAppear  1694940645335807244 2019-08-01 23:19:11   \n",
      "38962          MainScreenAppear  1694940645335807244 2019-08-01 23:29:28   \n",
      "40371          MainScreenAppear  1694940645335807244 2019-08-02 01:50:25   \n",
      "40372        OffersScreenAppear  1694940645335807244 2019-08-02 01:50:31   \n",
      "40381        OffersScreenAppear  1694940645335807244 2019-08-02 01:51:21   \n",
      "54199          MainScreenAppear  1694940645335807244 2019-08-02 11:30:05   \n",
      "54203        OffersScreenAppear  1694940645335807244 2019-08-02 11:30:11   \n",
      "54209        OffersScreenAppear  1694940645335807244 2019-08-02 11:30:24   \n",
      "54222        OffersScreenAppear  1694940645335807244 2019-08-02 11:30:34   \n",
      "61593          MainScreenAppear  1694940645335807244 2019-08-02 14:49:49   \n",
      "61607        OffersScreenAppear  1694940645335807244 2019-08-02 14:50:09   \n",
      "61717        OffersScreenAppear  1694940645335807244 2019-08-02 14:52:09   \n",
      "61743        OffersScreenAppear  1694940645335807244 2019-08-02 14:53:02   \n",
      "61776        OffersScreenAppear  1694940645335807244 2019-08-02 14:53:43   \n",
      "61782        OffersScreenAppear  1694940645335807244 2019-08-02 14:53:52   \n",
      "189448         MainScreenAppear  1694940645335807244 2019-08-06 10:19:06   \n",
      "189466         MainScreenAppear  1694940645335807244 2019-08-06 10:19:34   \n",
      "189470         MainScreenAppear  1694940645335807244 2019-08-06 10:19:49   \n",
      "189536         MainScreenAppear  1694940645335807244 2019-08-06 10:22:52   \n",
      "209417         MainScreenAppear  1694940645335807244 2019-08-06 18:58:56   \n",
      "209419       OffersScreenAppear  1694940645335807244 2019-08-06 18:59:01   \n",
      "209520       OffersScreenAppear  1694940645335807244 2019-08-06 19:02:01   \n",
      "\n",
      "        exp_id  \n",
      "2345       248  \n",
      "2346       248  \n",
      "2348       248  \n",
      "2349       248  \n",
      "2350       248  \n",
      "2351       248  \n",
      "2353       248  \n",
      "2370       248  \n",
      "2371       248  \n",
      "2996       248  \n",
      "3003       248  \n",
      "3004       248  \n",
      "3063       248  \n",
      "3064       248  \n",
      "3065       248  \n",
      "3066       248  \n",
      "3067       248  \n",
      "26330      248  \n",
      "26357      248  \n",
      "26375      248  \n",
      "31587      248  \n",
      "31590      248  \n",
      "33915      248  \n",
      "38302      248  \n",
      "38303      248  \n",
      "38304      248  \n",
      "38838      248  \n",
      "38839      248  \n",
      "38841      248  \n",
      "38880      248  \n",
      "38896      248  \n",
      "38901      248  \n",
      "38905      248  \n",
      "38909      248  \n",
      "38962      248  \n",
      "40371      248  \n",
      "40372      248  \n",
      "40381      248  \n",
      "54199      248  \n",
      "54203      248  \n",
      "54209      248  \n",
      "54222      248  \n",
      "61593      248  \n",
      "61607      248  \n",
      "61717      248  \n",
      "61743      248  \n",
      "61776      248  \n",
      "61782      248  \n",
      "189448     248  \n",
      "189466     248  \n",
      "189470     248  \n",
      "189536     248  \n",
      "209417     248  \n",
      "209419     248  \n",
      "209520     248  \n"
     ]
    }
   ],
   "source": [
    "# El 'device_id_hash' usado no tiene mucha información, se usa el siguiente\n",
    "\n",
    "print(df[df['device_id_hash'] == 1694940645335807244].sort_values('event_timestamp'))"
   ]
  },
  {
   "cell_type": "markdown",
   "metadata": {},
   "source": [
    "Nos podemos dar cuenta que, para un mismo usuario, hay eventos diferentes que ocurren en el mismo segundo, pero no significa que sea un error ya que pueden darse inmediatamente uno después del otro. Lo que sí no es común es que el mismo evento se dé en el mismo segundo, pareciera que el registro se duplicara o que el usuario haya hecho la acción dos veces con algún doble clic; incluso hay registro de 3 acciones en el mismo segundo, siendo la primera y la tercera acción la misma, un comportamiento extraño y más por el poco tiempo en el que se hace.  \n",
    "Por todo lo anterior, se determina que el mejor curso de acción es eliminar las líneas completamente duplicadas."
   ]
  },
  {
   "cell_type": "code",
   "execution_count": 15,
   "metadata": {},
   "outputs": [
    {
     "name": "stdout",
     "output_type": "stream",
     "text": [
      "                event_name       device_id_hash     event_timestamp  exp_id\n",
      "0         MainScreenAppear  4575588528974610257 2019-07-25 04:43:36     246\n",
      "1         MainScreenAppear  7416695313311560658 2019-07-25 11:11:42     246\n",
      "2  PaymentScreenSuccessful  3518123091307005509 2019-07-25 11:28:47     248\n",
      "3         CartScreenAppear  3518123091307005509 2019-07-25 11:28:47     248\n",
      "4  PaymentScreenSuccessful  6217807653094995999 2019-07-25 11:48:42     248\n",
      "\n",
      "<class 'pandas.core.frame.DataFrame'>\n",
      "Index: 243713 entries, 0 to 244125\n",
      "Data columns (total 4 columns):\n",
      " #   Column           Non-Null Count   Dtype         \n",
      "---  ------           --------------   -----         \n",
      " 0   event_name       243713 non-null  object        \n",
      " 1   device_id_hash   243713 non-null  int64         \n",
      " 2   event_timestamp  243713 non-null  datetime64[ns]\n",
      " 3   exp_id           243713 non-null  int64         \n",
      "dtypes: datetime64[ns](1), int64(2), object(1)\n",
      "memory usage: 9.3+ MB\n"
     ]
    }
   ],
   "source": [
    "# Se eliminan las líneas duplicadas\n",
    "\n",
    "df.drop_duplicates(inplace=True)\n",
    "print(df.head())\n",
    "print()\n",
    "df.info()"
   ]
  },
  {
   "cell_type": "markdown",
   "metadata": {},
   "source": [
    "Para este tipo de pruebas cada usuario dedbe estar solamente en un grupo experimental, si estuviera en más de un grupo se vería afectada la prueba."
   ]
  },
  {
   "cell_type": "code",
   "execution_count": 16,
   "metadata": {},
   "outputs": [
    {
     "name": "stdout",
     "output_type": "stream",
     "text": [
      "Lista del número de grupos en los que se puede encontrar cada usuario: [1]\n"
     ]
    }
   ],
   "source": [
    "# Se revisa si hay usuarios repetidos en diferentes grupos\n",
    "\n",
    "print('Lista del número de grupos en los que se puede encontrar cada usuario:', df.groupby('device_id_hash')['exp_id'].nunique().unique())"
   ]
  },
  {
   "cell_type": "markdown",
   "metadata": {},
   "source": [
    "Se observa que cada usuario se encuentra solamente en un grupo experimental, por lo que podemos seguir con el enriquecimiento de datos."
   ]
  },
  {
   "cell_type": "markdown",
   "metadata": {},
   "source": [
    "### Enriquecimiento de datos"
   ]
  },
  {
   "cell_type": "markdown",
   "metadata": {},
   "source": [
    "Se agregan columnas de fecha y de hora."
   ]
  },
  {
   "cell_type": "code",
   "execution_count": 17,
   "metadata": {},
   "outputs": [
    {
     "name": "stdout",
     "output_type": "stream",
     "text": [
      "                event_name       device_id_hash     event_timestamp  exp_id  \\\n",
      "0         MainScreenAppear  4575588528974610257 2019-07-25 04:43:36     246   \n",
      "1         MainScreenAppear  7416695313311560658 2019-07-25 11:11:42     246   \n",
      "2  PaymentScreenSuccessful  3518123091307005509 2019-07-25 11:28:47     248   \n",
      "3         CartScreenAppear  3518123091307005509 2019-07-25 11:28:47     248   \n",
      "4  PaymentScreenSuccessful  6217807653094995999 2019-07-25 11:48:42     248   \n",
      "\n",
      "         date      hour  \n",
      "0  2019-07-25  04:43:36  \n",
      "1  2019-07-25  11:11:42  \n",
      "2  2019-07-25  11:28:47  \n",
      "3  2019-07-25  11:28:47  \n",
      "4  2019-07-25  11:48:42  \n",
      "\n",
      "<class 'pandas.core.frame.DataFrame'>\n",
      "Index: 243713 entries, 0 to 244125\n",
      "Data columns (total 6 columns):\n",
      " #   Column           Non-Null Count   Dtype         \n",
      "---  ------           --------------   -----         \n",
      " 0   event_name       243713 non-null  object        \n",
      " 1   device_id_hash   243713 non-null  int64         \n",
      " 2   event_timestamp  243713 non-null  datetime64[ns]\n",
      " 3   exp_id           243713 non-null  int64         \n",
      " 4   date             243713 non-null  object        \n",
      " 5   hour             243713 non-null  object        \n",
      "dtypes: datetime64[ns](1), int64(2), object(3)\n",
      "memory usage: 13.0+ MB\n"
     ]
    }
   ],
   "source": [
    "# Se crean las columnas\n",
    "\n",
    "df['date'] = df['event_timestamp'].dt.date\n",
    "df['hour'] = df['event_timestamp'].dt.time\n",
    "print(df.head())\n",
    "print()\n",
    "df.info()"
   ]
  },
  {
   "cell_type": "markdown",
   "metadata": {},
   "source": [
    "## Análisis de datos inicial"
   ]
  },
  {
   "cell_type": "markdown",
   "metadata": {},
   "source": [
    "### Estudio y comprobación de datos"
   ]
  },
  {
   "cell_type": "markdown",
   "metadata": {},
   "source": [
    "Se calcula el número de eventos que hay en los registros así como el total de usuarios y el promedio de eventos por usuario."
   ]
  },
  {
   "cell_type": "code",
   "execution_count": 18,
   "metadata": {},
   "outputs": [
    {
     "name": "stdout",
     "output_type": "stream",
     "text": [
      "Total de eventos = 243713\n",
      "\n",
      "Total de usuarios = 7551\n",
      "\n",
      "Promedio de eventos por usuario = 32.3\n"
     ]
    }
   ],
   "source": [
    "# Se muestran los datos\n",
    "\n",
    "print('Total de eventos =', df['event_name'].count())\n",
    "print()\n",
    "print('Total de usuarios =', df['device_id_hash'].nunique())\n",
    "print()\n",
    "print('Promedio de eventos por usuario =', df.groupby('device_id_hash')['event_name'].count().mean().round(1))"
   ]
  },
  {
   "cell_type": "markdown",
   "metadata": {},
   "source": [
    "Se visualiza el periodo de tiempo que cubren los datos y cuándo empieza a hacerse el registro completo."
   ]
  },
  {
   "cell_type": "code",
   "execution_count": 19,
   "metadata": {},
   "outputs": [
    {
     "name": "stdout",
     "output_type": "stream",
     "text": [
      "date\n",
      "2019-07-25        9\n",
      "2019-07-26       31\n",
      "2019-07-27       55\n",
      "2019-07-28      105\n",
      "2019-07-29      184\n",
      "2019-07-30      412\n",
      "2019-07-31     2030\n",
      "2019-08-01    36141\n",
      "2019-08-02    35554\n",
      "2019-08-03    33282\n",
      "2019-08-04    32968\n",
      "2019-08-05    36058\n",
      "2019-08-06    35788\n",
      "2019-08-07    31096\n",
      "Name: event_name, dtype: int64\n"
     ]
    },
    {
     "data": {
      "image/png": "[encoded data removed]",
      "text/plain": [
       "<Figure size 1000x500 with 1 Axes>"
      ]
     },
     "metadata": {},
     "output_type": "display_data"
    }
   ],
   "source": [
    "# Se calculan los eventos por día y se grafica un histograma\n",
    "\n",
    "print(df.groupby('date')['event_name'].count())\n",
    "\n",
    "df.hist('event_timestamp', figsize=(10,5), bins=14)\n",
    "plt.show()"
   ]
  },
  {
   "cell_type": "markdown",
   "metadata": {},
   "source": [
    "Se observa que los datos comprenden del 25 de julio al 7 de agosto del 2019, aunque lo datos completos se empiezan a registrar desde el 1° de agosto, por lo que se procede a eliminar los eventos antes de este día."
   ]
  },
  {
   "cell_type": "code",
   "execution_count": 20,
   "metadata": {},
   "outputs": [
    {
     "name": "stdout",
     "output_type": "stream",
     "text": [
      "              event_name       device_id_hash     event_timestamp  exp_id  \\\n",
      "2828            Tutorial  3737462046622621720 2019-08-01 00:07:28     246   \n",
      "2829    MainScreenAppear  3737462046622621720 2019-08-01 00:08:00     246   \n",
      "2830    MainScreenAppear  3737462046622621720 2019-08-01 00:08:55     246   \n",
      "2831  OffersScreenAppear  3737462046622621720 2019-08-01 00:08:58     246   \n",
      "2832    MainScreenAppear  1433840883824088890 2019-08-01 00:08:59     247   \n",
      "\n",
      "            date      hour  \n",
      "2828  2019-08-01  00:07:28  \n",
      "2829  2019-08-01  00:08:00  \n",
      "2830  2019-08-01  00:08:55  \n",
      "2831  2019-08-01  00:08:58  \n",
      "2832  2019-08-01  00:08:59  \n",
      "\n",
      "<class 'pandas.core.frame.DataFrame'>\n",
      "Index: 240887 entries, 2828 to 244125\n",
      "Data columns (total 6 columns):\n",
      " #   Column           Non-Null Count   Dtype         \n",
      "---  ------           --------------   -----         \n",
      " 0   event_name       240887 non-null  object        \n",
      " 1   device_id_hash   240887 non-null  int64         \n",
      " 2   event_timestamp  240887 non-null  datetime64[ns]\n",
      " 3   exp_id           240887 non-null  int64         \n",
      " 4   date             240887 non-null  object        \n",
      " 5   hour             240887 non-null  object        \n",
      "dtypes: datetime64[ns](1), int64(2), object(3)\n",
      "memory usage: 12.9+ MB\n"
     ]
    }
   ],
   "source": [
    "# Se eliminan los eventos antes del 1° de agosto\n",
    "\n",
    "df_filtered = df[df['event_timestamp'] >= '2019-08-01']\n",
    "print(df_filtered.head())\n",
    "print()\n",
    "df_filtered.info()"
   ]
  },
  {
   "cell_type": "markdown",
   "metadata": {},
   "source": [
    "Al exlcluir los datos más antiguos se perdieron datos, se calculan a continuación."
   ]
  },
  {
   "cell_type": "code",
   "execution_count": 21,
   "metadata": {},
   "outputs": [
    {
     "name": "stdout",
     "output_type": "stream",
     "text": [
      "Total de eventos = 240887 ( 98.84 % )\n",
      "Se perdieron 2826 eventos\n",
      "\n",
      "Total de usuarios = 7534 ( 99.77 % )\n",
      "Se perdieron 17 usuarios\n"
     ]
    }
   ],
   "source": [
    "# Se muestran los datos actuales\n",
    "\n",
    "print('Total de eventos =', df_filtered['event_name'].count(),\n",
    "      '(', round(100 * df_filtered['event_name'].count() / df['event_name'].count(), 2), '% )')\n",
    "print('Se perdieron', df['event_name'].count() - df_filtered['event_name'].count(), 'eventos')\n",
    "print()\n",
    "print('Total de usuarios =', df_filtered['device_id_hash'].nunique(),\n",
    "      '(', round(100 * df_filtered['device_id_hash'].nunique() / df['device_id_hash'].nunique(),2), '% )')\n",
    "print('Se perdieron', df['device_id_hash'].nunique() - df_filtered['device_id_hash'].nunique(), 'usuarios')"
   ]
  },
  {
   "cell_type": "markdown",
   "metadata": {},
   "source": [
    "Ahora nos aseguramos de que haya usuarios en los 3 grupos experimentales."
   ]
  },
  {
   "cell_type": "code",
   "execution_count": 22,
   "metadata": {},
   "outputs": [
    {
     "name": "stdout",
     "output_type": "stream",
     "text": [
      "exp_id\n",
      "246    2484\n",
      "247    2513\n",
      "248    2537\n",
      "Name: device_id_hash, dtype: int64\n"
     ]
    }
   ],
   "source": [
    "# Se muestra el número de usuarios por grupo\n",
    "\n",
    "print(df_filtered.groupby('exp_id')['device_id_hash'].nunique())"
   ]
  },
  {
   "cell_type": "markdown",
   "metadata": {},
   "source": [
    "Efectivamente se tiene un número parecido de usuarios en cada uno de los grupos experimentales, por lo que podemos seguir con nuestro análisis."
   ]
  },
  {
   "cell_type": "markdown",
   "metadata": {},
   "source": [
    "### Estudio de embudo de eventos"
   ]
  },
  {
   "cell_type": "markdown",
   "metadata": {},
   "source": [
    "Se indaga la frecuencia de cada evento registrado en el dataframe."
   ]
  },
  {
   "cell_type": "code",
   "execution_count": 23,
   "metadata": {},
   "outputs": [
    {
     "name": "stdout",
     "output_type": "stream",
     "text": [
      "event_name\n",
      "MainScreenAppear           117328\n",
      "OffersScreenAppear          46333\n",
      "CartScreenAppear            42303\n",
      "PaymentScreenSuccessful     33918\n",
      "Tutorial                     1005\n",
      "Name: device_id_hash, dtype: int64\n"
     ]
    }
   ],
   "source": [
    "# Se muestra qué eventos están registrados y cuantos usuarios realizaron cada acción\n",
    "\n",
    "print(df_filtered.groupby('event_name')['device_id_hash'].count().sort_values(ascending=False))"
   ]
  },
  {
   "cell_type": "markdown",
   "metadata": {},
   "source": [
    "Se procede a averiguar la cantidad de usuarios que realizaron cada una de estas acciones y la proporción de usuarios que realizaron la acción al menos una vez."
   ]
  },
  {
   "cell_type": "code",
   "execution_count": 24,
   "metadata": {},
   "outputs": [
    {
     "name": "stdout",
     "output_type": "stream",
     "text": [
      "                event_name  cantidad\n",
      "0         MainScreenAppear      7419\n",
      "1       OffersScreenAppear      4593\n",
      "2         CartScreenAppear      3734\n",
      "3  PaymentScreenSuccessful      3539\n",
      "4                 Tutorial       840\n"
     ]
    }
   ],
   "source": [
    "# Se calcula el número de usarios únicos que hicieron cada acción\n",
    "\n",
    "eventos = df_filtered.groupby('event_name', as_index=False)['device_id_hash'].nunique().sort_values('device_id_hash', ascending=False).reset_index(drop=True)\n",
    "eventos.columns = ['event_name', 'cantidad']\n",
    "print(eventos)"
   ]
  },
  {
   "cell_type": "code",
   "execution_count": 25,
   "metadata": {},
   "outputs": [
    {
     "name": "stdout",
     "output_type": "stream",
     "text": [
      "                event_name  cantidad  conversion_total\n",
      "0         MainScreenAppear      7419          0.982519\n",
      "1       OffersScreenAppear      4593          0.608264\n",
      "2         CartScreenAppear      3734          0.494504\n",
      "3  PaymentScreenSuccessful      3539          0.468680\n",
      "4                 Tutorial       840          0.111244\n"
     ]
    }
   ],
   "source": [
    "# Se calcula la proporción de usuarios que realizaron la acción al menos una vez\n",
    "\n",
    "eventos['conversion_total'] = (eventos['cantidad'] / df['device_id_hash'].nunique())\n",
    "print(eventos)"
   ]
  },
  {
   "cell_type": "markdown",
   "metadata": {},
   "source": [
    "Se observa que el número de eventos es congruente con el proceso de hacer una compra. Se observa que para el proceso de hacer una compra, el usuario tiene que hacer forzosamente los siguientes pasos en el siguiente orden:\n",
    "\n",
    "1. MainScreenAppear: primero se tiene que abrir la app, y al hacerlo aparece la pantalla principal de la misma.\n",
    "2. CartScreenAppear: después de agregar los productos a su carrito, se tiene que ir a ver el contenido en la pantalla del carrito para editar y verificar que estén los productos deseados.\n",
    "3. PaymentScreenSuccessful: por último se tiene que pagar por todo el conetenido del carrito, en donde aparece la pantalla de pago exitoso.\n",
    "\n",
    "Los siguientes eventos no son necesarios para el proceso de la compra:\n",
    "\n",
    "1. OffersScreenAppear: Aunque es evidente que la pantalla de ofertas de la app atrae más compras de los usuarios, esta no es indispensable en el proceso de compra (esta pantalla no tiene que aparecer si el usuario necesita comprar).\n",
    "2. Tutorial: Esta pantalla aparece cuando el usuario necesita ayuda sobre el manejo de la app, pero es opcional y para nada necesaria para el proceso de la compra."
   ]
  },
  {
   "cell_type": "markdown",
   "metadata": {},
   "source": [
    "Ahora que se tiene clara la secuencia de eventos, se encontrará la proporción de usuarios que pasan de una etapa a la siguiente."
   ]
  },
  {
   "cell_type": "code",
   "execution_count": 26,
   "metadata": {},
   "outputs": [
    {
     "name": "stdout",
     "output_type": "stream",
     "text": [
      "                event_name  cantidad  conversion_total  \\\n",
      "0         MainScreenAppear      7419          0.982519   \n",
      "2         CartScreenAppear      3734          0.494504   \n",
      "3  PaymentScreenSuccessful      3539          0.468680   \n",
      "\n",
      "   conversion_siguiente_etapa  \n",
      "0                    1.000000  \n",
      "2                    0.503302  \n",
      "3                    0.947777  \n"
     ]
    }
   ],
   "source": [
    "# Se calcula la proporción de usuarios que pasan de una etapa a la siguiente\n",
    "\n",
    "secuencia = ['MainScreenAppear', 'CartScreenAppear', 'PaymentScreenSuccessful']\n",
    "embudo = eventos[eventos['event_name'].isin(secuencia)].copy()\n",
    "embudo['conversion_siguiente_etapa'] = embudo['cantidad'].pct_change() + 1\n",
    "embudo = embudo.fillna(1)\n",
    "print(embudo)"
   ]
  },
  {
   "cell_type": "code",
   "execution_count": 27,
   "metadata": {},
   "outputs": [
    {
     "data": {
      "application/vnd.plotly.v1+json": {
       "config": {
        "plotlyServerURL": "https://plot.ly"
       },
       "data": [
        {
         "textinfo": "value+percent initial",
         "type": "funnel",
         "x": [
          7419,
          3734,
          3539
         ],
         "y": [
          "MainScreenAppear",
          "CartScreenAppear",
          "PaymentScreenSuccessful"
         ]
        }
       ],
       "layout": {
        "template": {
         "data": {
          "bar": [
           {
            "error_x": {
             "color": "#2a3f5f"
            },
            "error_y": {
             "color": "#2a3f5f"
            },
            "marker": {
             "line": {
              "color": "#E5ECF6",
              "width": 0.5
             },
             "pattern": {
              "fillmode": "overlay",
              "size": 10,
              "solidity": 0.2
             }
            },
            "type": "bar"
           }
          ],
          "barpolar": [
           {
            "marker": {
             "line": {
              "color": "#E5ECF6",
              "width": 0.5
             },
             "pattern": {
              "fillmode": "overlay",
              "size": 10,
              "solidity": 0.2
             }
            },
            "type": "barpolar"
           }
          ],
          "carpet": [
           {
            "aaxis": {
             "endlinecolor": "#2a3f5f",
             "gridcolor": "white",
             "linecolor": "white",
             "minorgridcolor": "white",
             "startlinecolor": "#2a3f5f"
            },
            "baxis": {
             "endlinecolor": "#2a3f5f",
             "gridcolor": "white",
             "linecolor": "white",
             "minorgridcolor": "white",
             "startlinecolor": "#2a3f5f"
            },
            "type": "carpet"
           }
          ],
          "choropleth": [
           {
            "colorbar": {
             "outlinewidth": 0,
             "ticks": ""
            },
            "type": "choropleth"
           }
          ],
          "contour": [
           {
            "colorbar": {
             "outlinewidth": 0,
             "ticks": ""
            },
            "colorscale": [
             [
              0,
              "#0d0887"
             ],
             [
              0.1111111111111111,
              "#46039f"
             ],
             [
              0.2222222222222222,
              "#7201a8"
             ],
             [
              0.3333333333333333,
              "#9c179e"
             ],
             [
              0.4444444444444444,
              "#bd3786"
             ],
             [
              0.5555555555555556,
              "#d8576b"
             ],
             [
              0.6666666666666666,
              "#ed7953"
             ],
             [
              0.7777777777777778,
              "#fb9f3a"
             ],
             [
              0.8888888888888888,
              "#fdca26"
             ],
             [
              1,
              "#f0f921"
             ]
            ],
            "type": "contour"
           }
          ],
          "contourcarpet": [
           {
            "colorbar": {
             "outlinewidth": 0,
             "ticks": ""
            },
            "type": "contourcarpet"
           }
          ],
          "heatmap": [
           {
            "colorbar": {
             "outlinewidth": 0,
             "ticks": ""
            },
            "colorscale": [
             [
              0,
              "#0d0887"
             ],
             [
              0.1111111111111111,
              "#46039f"
             ],
             [
              0.2222222222222222,
              "#7201a8"
             ],
             [
              0.3333333333333333,
              "#9c179e"
             ],
             [
              0.4444444444444444,
              "#bd3786"
             ],
             [
              0.5555555555555556,
              "#d8576b"
             ],
             [
              0.6666666666666666,
              "#ed7953"
             ],
             [
              0.7777777777777778,
              "#fb9f3a"
             ],
             [
              0.8888888888888888,
              "#fdca26"
             ],
             [
              1,
              "#f0f921"
             ]
            ],
            "type": "heatmap"
           }
          ],
          "heatmapgl": [
           {
            "colorbar": {
             "outlinewidth": 0,
             "ticks": ""
            },
            "colorscale": [
             [
              0,
              "#0d0887"
             ],
             [
              0.1111111111111111,
              "#46039f"
             ],
             [
              0.2222222222222222,
              "#7201a8"
             ],
             [
              0.3333333333333333,
              "#9c179e"
             ],
             [
              0.4444444444444444,
              "#bd3786"
             ],
             [
              0.5555555555555556,
              "#d8576b"
             ],
             [
              0.6666666666666666,
              "#ed7953"
             ],
             [
              0.7777777777777778,
              "#fb9f3a"
             ],
             [
              0.8888888888888888,
              "#fdca26"
             ],
             [
              1,
              "#f0f921"
             ]
            ],
            "type": "heatmapgl"
           }
          ],
          "histogram": [
           {
            "marker": {
             "pattern": {
              "fillmode": "overlay",
              "size": 10,
              "solidity": 0.2
             }
            },
            "type": "histogram"
           }
          ],
          "histogram2d": [
           {
            "colorbar": {
             "outlinewidth": 0,
             "ticks": ""
            },
            "colorscale": [
             [
              0,
              "#0d0887"
             ],
             [
              0.1111111111111111,
              "#46039f"
             ],
             [
              0.2222222222222222,
              "#7201a8"
             ],
             [
              0.3333333333333333,
              "#9c179e"
             ],
             [
              0.4444444444444444,
              "#bd3786"
             ],
             [
              0.5555555555555556,
              "#d8576b"
             ],
             [
              0.6666666666666666,
              "#ed7953"
             ],
             [
              0.7777777777777778,
              "#fb9f3a"
             ],
             [
              0.8888888888888888,
              "#fdca26"
             ],
             [
              1,
              "#f0f921"
             ]
            ],
            "type": "histogram2d"
           }
          ],
          "histogram2dcontour": [
           {
            "colorbar": {
             "outlinewidth": 0,
             "ticks": ""
            },
            "colorscale": [
             [
              0,
              "#0d0887"
             ],
             [
              0.1111111111111111,
              "#46039f"
             ],
             [
              0.2222222222222222,
              "#7201a8"
             ],
             [
              0.3333333333333333,
              "#9c179e"
             ],
             [
              0.4444444444444444,
              "#bd3786"
             ],
             [
              0.5555555555555556,
              "#d8576b"
             ],
             [
              0.6666666666666666,
              "#ed7953"
             ],
             [
              0.7777777777777778,
              "#fb9f3a"
             ],
             [
              0.8888888888888888,
              "#fdca26"
             ],
             [
              1,
              "#f0f921"
             ]
            ],
            "type": "histogram2dcontour"
           }
          ],
          "mesh3d": [
           {
            "colorbar": {
             "outlinewidth": 0,
             "ticks": ""
            },
            "type": "mesh3d"
           }
          ],
          "parcoords": [
           {
            "line": {
             "colorbar": {
              "outlinewidth": 0,
              "ticks": ""
             }
            },
            "type": "parcoords"
           }
          ],
          "pie": [
           {
            "automargin": true,
            "type": "pie"
           }
          ],
          "scatter": [
           {
            "fillpattern": {
             "fillmode": "overlay",
             "size": 10,
             "solidity": 0.2
            },
            "type": "scatter"
           }
          ],
          "scatter3d": [
           {
            "line": {
             "colorbar": {
              "outlinewidth": 0,
              "ticks": ""
             }
            },
            "marker": {
             "colorbar": {
              "outlinewidth": 0,
              "ticks": ""
             }
            },
            "type": "scatter3d"
           }
          ],
          "scattercarpet": [
           {
            "marker": {
             "colorbar": {
              "outlinewidth": 0,
              "ticks": ""
             }
            },
            "type": "scattercarpet"
           }
          ],
          "scattergeo": [
           {
            "marker": {
             "colorbar": {
              "outlinewidth": 0,
              "ticks": ""
             }
            },
            "type": "scattergeo"
           }
          ],
          "scattergl": [
           {
            "marker": {
             "colorbar": {
              "outlinewidth": 0,
              "ticks": ""
             }
            },
            "type": "scattergl"
           }
          ],
          "scattermapbox": [
           {
            "marker": {
             "colorbar": {
              "outlinewidth": 0,
              "ticks": ""
             }
            },
            "type": "scattermapbox"
           }
          ],
          "scatterpolar": [
           {
            "marker": {
             "colorbar": {
              "outlinewidth": 0,
              "ticks": ""
             }
            },
            "type": "scatterpolar"
           }
          ],
          "scatterpolargl": [
           {
            "marker": {
             "colorbar": {
              "outlinewidth": 0,
              "ticks": ""
             }
            },
            "type": "scatterpolargl"
           }
          ],
          "scatterternary": [
           {
            "marker": {
             "colorbar": {
              "outlinewidth": 0,
              "ticks": ""
             }
            },
            "type": "scatterternary"
           }
          ],
          "surface": [
           {
            "colorbar": {
             "outlinewidth": 0,
             "ticks": ""
            },
            "colorscale": [
             [
              0,
              "#0d0887"
             ],
             [
              0.1111111111111111,
              "#46039f"
             ],
             [
              0.2222222222222222,
              "#7201a8"
             ],
             [
              0.3333333333333333,
              "#9c179e"
             ],
             [
              0.4444444444444444,
              "#bd3786"
             ],
             [
              0.5555555555555556,
              "#d8576b"
             ],
             [
              0.6666666666666666,
              "#ed7953"
             ],
             [
              0.7777777777777778,
              "#fb9f3a"
             ],
             [
              0.8888888888888888,
              "#fdca26"
             ],
             [
              1,
              "#f0f921"
             ]
            ],
            "type": "surface"
           }
          ],
          "table": [
           {
            "cells": {
             "fill": {
              "color": "#EBF0F8"
             },
             "line": {
              "color": "white"
             }
            },
            "header": {
             "fill": {
              "color": "#C8D4E3"
             },
             "line": {
              "color": "white"
             }
            },
            "type": "table"
           }
          ]
         },
         "layout": {
          "annotationdefaults": {
           "arrowcolor": "#2a3f5f",
           "arrowhead": 0,
           "arrowwidth": 1
          },
          "autotypenumbers": "strict",
          "coloraxis": {
           "colorbar": {
            "outlinewidth": 0,
            "ticks": ""
           }
          },
          "colorscale": {
           "diverging": [
            [
             0,
             "#8e0152"
            ],
            [
             0.1,
             "#c51b7d"
            ],
            [
             0.2,
             "#de77ae"
            ],
            [
             0.3,
             "#f1b6da"
            ],
            [
             0.4,
             "#fde0ef"
            ],
            [
             0.5,
             "#f7f7f7"
            ],
            [
             0.6,
             "#e6f5d0"
            ],
            [
             0.7,
             "#b8e186"
            ],
            [
             0.8,
             "#7fbc41"
            ],
            [
             0.9,
             "#4d9221"
            ],
            [
             1,
             "#276419"
            ]
           ],
           "sequential": [
            [
             0,
             "#0d0887"
            ],
            [
             0.1111111111111111,
             "#46039f"
            ],
            [
             0.2222222222222222,
             "#7201a8"
            ],
            [
             0.3333333333333333,
             "#9c179e"
            ],
            [
             0.4444444444444444,
             "#bd3786"
            ],
            [
             0.5555555555555556,
             "#d8576b"
            ],
            [
             0.6666666666666666,
             "#ed7953"
            ],
            [
             0.7777777777777778,
             "#fb9f3a"
            ],
            [
             0.8888888888888888,
             "#fdca26"
            ],
            [
             1,
             "#f0f921"
            ]
           ],
           "sequentialminus": [
            [
             0,
             "#0d0887"
            ],
            [
             0.1111111111111111,
             "#46039f"
            ],
            [
             0.2222222222222222,
             "#7201a8"
            ],
            [
             0.3333333333333333,
             "#9c179e"
            ],
            [
             0.4444444444444444,
             "#bd3786"
            ],
            [
             0.5555555555555556,
             "#d8576b"
            ],
            [
             0.6666666666666666,
             "#ed7953"
            ],
            [
             0.7777777777777778,
             "#fb9f3a"
            ],
            [
             0.8888888888888888,
             "#fdca26"
            ],
            [
             1,
             "#f0f921"
            ]
           ]
          },
          "colorway": [
           "#636efa",
           "#EF553B",
           "#00cc96",
           "#ab63fa",
           "#FFA15A",
           "#19d3f3",
           "#FF6692",
           "#B6E880",
           "#FF97FF",
           "#FECB52"
          ],
          "font": {
           "color": "#2a3f5f"
          },
          "geo": {
           "bgcolor": "white",
           "lakecolor": "white",
           "landcolor": "#E5ECF6",
           "showlakes": true,
           "showland": true,
           "subunitcolor": "white"
          },
          "hoverlabel": {
           "align": "left"
          },
          "hovermode": "closest",
          "mapbox": {
           "style": "light"
          },
          "paper_bgcolor": "white",
          "plot_bgcolor": "#E5ECF6",
          "polar": {
           "angularaxis": {
            "gridcolor": "white",
            "linecolor": "white",
            "ticks": ""
           },
           "bgcolor": "#E5ECF6",
           "radialaxis": {
            "gridcolor": "white",
            "linecolor": "white",
            "ticks": ""
           }
          },
          "scene": {
           "xaxis": {
            "backgroundcolor": "#E5ECF6",
            "gridcolor": "white",
            "gridwidth": 2,
            "linecolor": "white",
            "showbackground": true,
            "ticks": "",
            "zerolinecolor": "white"
           },
           "yaxis": {
            "backgroundcolor": "#E5ECF6",
            "gridcolor": "white",
            "gridwidth": 2,
            "linecolor": "white",
            "showbackground": true,
            "ticks": "",
            "zerolinecolor": "white"
           },
           "zaxis": {
            "backgroundcolor": "#E5ECF6",
            "gridcolor": "white",
            "gridwidth": 2,
            "linecolor": "white",
            "showbackground": true,
            "ticks": "",
            "zerolinecolor": "white"
           }
          },
          "shapedefaults": {
           "line": {
            "color": "#2a3f5f"
           }
          },
          "ternary": {
           "aaxis": {
            "gridcolor": "white",
            "linecolor": "white",
            "ticks": ""
           },
           "baxis": {
            "gridcolor": "white",
            "linecolor": "white",
            "ticks": ""
           },
           "bgcolor": "#E5ECF6",
           "caxis": {
            "gridcolor": "white",
            "linecolor": "white",
            "ticks": ""
           }
          },
          "title": {
           "x": 0.05
          },
          "xaxis": {
           "automargin": true,
           "gridcolor": "white",
           "linecolor": "white",
           "ticks": "",
           "title": {
            "standoff": 15
           },
           "zerolinecolor": "white",
           "zerolinewidth": 2
          },
          "yaxis": {
           "automargin": true,
           "gridcolor": "white",
           "linecolor": "white",
           "ticks": "",
           "title": {
            "standoff": 15
           },
           "zerolinecolor": "white",
           "zerolinewidth": 2
          }
         }
        }
       }
      }
     },
     "metadata": {},
     "output_type": "display_data"
    }
   ],
   "source": [
    "# Se grafica el embudo\n",
    "\n",
    "fig = go.Figure(go.Funnel(y = embudo['event_name'], x = embudo['cantidad'], textinfo = \"value+percent initial\"))\n",
    "fig.show()"
   ]
  },
  {
   "cell_type": "markdown",
   "metadata": {},
   "source": [
    "Se hará lo mismo pero incluyendo OffersScreenAppear para ver como afecta al proceso completo."
   ]
  },
  {
   "cell_type": "code",
   "execution_count": 28,
   "metadata": {},
   "outputs": [
    {
     "name": "stdout",
     "output_type": "stream",
     "text": [
      "                event_name  cantidad  conversion_total  \\\n",
      "0         MainScreenAppear      7419          0.982519   \n",
      "1       OffersScreenAppear      4593          0.608264   \n",
      "2         CartScreenAppear      3734          0.494504   \n",
      "3  PaymentScreenSuccessful      3539          0.468680   \n",
      "\n",
      "   conversion_siguiente_etapa  \n",
      "0                    1.000000  \n",
      "1                    0.619086  \n",
      "2                    0.812976  \n",
      "3                    0.947777  \n"
     ]
    }
   ],
   "source": [
    "# Se calcula la proporción de usuarios que pasan de una etapa a la siguiente incluyendo OffersScreenAppear\n",
    "\n",
    "secuencia_ofertas= ['MainScreenAppear', 'OffersScreenAppear', 'CartScreenAppear', 'PaymentScreenSuccessful']\n",
    "embudo_ofertas= eventos[eventos['event_name'].isin(secuencia_ofertas)].copy()\n",
    "embudo_ofertas['conversion_siguiente_etapa'] = embudo_ofertas['cantidad'].pct_change() + 1\n",
    "embudo_ofertas = embudo_ofertas.fillna(1)\n",
    "print(embudo_ofertas)"
   ]
  },
  {
   "cell_type": "code",
   "execution_count": 29,
   "metadata": {},
   "outputs": [
    {
     "data": {
      "application/vnd.plotly.v1+json": {
       "config": {
        "plotlyServerURL": "https://plot.ly"
       },
       "data": [
        {
         "textinfo": "value+percent initial",
         "type": "funnel",
         "x": [
          7419,
          4593,
          3734,
          3539
         ],
         "y": [
          "MainScreenAppear",
          "OffersScreenAppear",
          "CartScreenAppear",
          "PaymentScreenSuccessful"
         ]
        }
       ],
       "layout": {
        "template": {
         "data": {
          "bar": [
           {
            "error_x": {
             "color": "#2a3f5f"
            },
            "error_y": {
             "color": "#2a3f5f"
            },
            "marker": {
             "line": {
              "color": "#E5ECF6",
              "width": 0.5
             },
             "pattern": {
              "fillmode": "overlay",
              "size": 10,
              "solidity": 0.2
             }
            },
            "type": "bar"
           }
          ],
          "barpolar": [
           {
            "marker": {
             "line": {
              "color": "#E5ECF6",
              "width": 0.5
             },
             "pattern": {
              "fillmode": "overlay",
              "size": 10,
              "solidity": 0.2
             }
            },
            "type": "barpolar"
           }
          ],
          "carpet": [
           {
            "aaxis": {
             "endlinecolor": "#2a3f5f",
             "gridcolor": "white",
             "linecolor": "white",
             "minorgridcolor": "white",
             "startlinecolor": "#2a3f5f"
            },
            "baxis": {
             "endlinecolor": "#2a3f5f",
             "gridcolor": "white",
             "linecolor": "white",
             "minorgridcolor": "white",
             "startlinecolor": "#2a3f5f"
            },
            "type": "carpet"
           }
          ],
          "choropleth": [
           {
            "colorbar": {
             "outlinewidth": 0,
             "ticks": ""
            },
            "type": "choropleth"
           }
          ],
          "contour": [
           {
            "colorbar": {
             "outlinewidth": 0,
             "ticks": ""
            },
            "colorscale": [
             [
              0,
              "#0d0887"
             ],
             [
              0.1111111111111111,
              "#46039f"
             ],
             [
              0.2222222222222222,
              "#7201a8"
             ],
             [
              0.3333333333333333,
              "#9c179e"
             ],
             [
              0.4444444444444444,
              "#bd3786"
             ],
             [
              0.5555555555555556,
              "#d8576b"
             ],
             [
              0.6666666666666666,
              "#ed7953"
             ],
             [
              0.7777777777777778,
              "#fb9f3a"
             ],
             [
              0.8888888888888888,
              "#fdca26"
             ],
             [
              1,
              "#f0f921"
             ]
            ],
            "type": "contour"
           }
          ],
          "contourcarpet": [
           {
            "colorbar": {
             "outlinewidth": 0,
             "ticks": ""
            },
            "type": "contourcarpet"
           }
          ],
          "heatmap": [
           {
            "colorbar": {
             "outlinewidth": 0,
             "ticks": ""
            },
            "colorscale": [
             [
              0,
              "#0d0887"
             ],
             [
              0.1111111111111111,
              "#46039f"
             ],
             [
              0.2222222222222222,
              "#7201a8"
             ],
             [
              0.3333333333333333,
              "#9c179e"
             ],
             [
              0.4444444444444444,
              "#bd3786"
             ],
             [
              0.5555555555555556,
              "#d8576b"
             ],
             [
              0.6666666666666666,
              "#ed7953"
             ],
             [
              0.7777777777777778,
              "#fb9f3a"
             ],
             [
              0.8888888888888888,
              "#fdca26"
             ],
             [
              1,
              "#f0f921"
             ]
            ],
            "type": "heatmap"
           }
          ],
          "heatmapgl": [
           {
            "colorbar": {
             "outlinewidth": 0,
             "ticks": ""
            },
            "colorscale": [
             [
              0,
              "#0d0887"
             ],
             [
              0.1111111111111111,
              "#46039f"
             ],
             [
              0.2222222222222222,
              "#7201a8"
             ],
             [
              0.3333333333333333,
              "#9c179e"
             ],
             [
              0.4444444444444444,
              "#bd3786"
             ],
             [
              0.5555555555555556,
              "#d8576b"
             ],
             [
              0.6666666666666666,
              "#ed7953"
             ],
             [
              0.7777777777777778,
              "#fb9f3a"
             ],
             [
              0.8888888888888888,
              "#fdca26"
             ],
             [
              1,
              "#f0f921"
             ]
            ],
            "type": "heatmapgl"
           }
          ],
          "histogram": [
           {
            "marker": {
             "pattern": {
              "fillmode": "overlay",
              "size": 10,
              "solidity": 0.2
             }
            },
            "type": "histogram"
           }
          ],
          "histogram2d": [
           {
            "colorbar": {
             "outlinewidth": 0,
             "ticks": ""
            },
            "colorscale": [
             [
              0,
              "#0d0887"
             ],
             [
              0.1111111111111111,
              "#46039f"
             ],
             [
              0.2222222222222222,
              "#7201a8"
             ],
             [
              0.3333333333333333,
              "#9c179e"
             ],
             [
              0.4444444444444444,
              "#bd3786"
             ],
             [
              0.5555555555555556,
              "#d8576b"
             ],
             [
              0.6666666666666666,
              "#ed7953"
             ],
             [
              0.7777777777777778,
              "#fb9f3a"
             ],
             [
              0.8888888888888888,
              "#fdca26"
             ],
             [
              1,
              "#f0f921"
             ]
            ],
            "type": "histogram2d"
           }
          ],
          "histogram2dcontour": [
           {
            "colorbar": {
             "outlinewidth": 0,
             "ticks": ""
            },
            "colorscale": [
             [
              0,
              "#0d0887"
             ],
             [
              0.1111111111111111,
              "#46039f"
             ],
             [
              0.2222222222222222,
              "#7201a8"
             ],
             [
              0.3333333333333333,
              "#9c179e"
             ],
             [
              0.4444444444444444,
              "#bd3786"
             ],
             [
              0.5555555555555556,
              "#d8576b"
             ],
             [
              0.6666666666666666,
              "#ed7953"
             ],
             [
              0.7777777777777778,
              "#fb9f3a"
             ],
             [
              0.8888888888888888,
              "#fdca26"
             ],
             [
              1,
              "#f0f921"
             ]
            ],
            "type": "histogram2dcontour"
           }
          ],
          "mesh3d": [
           {
            "colorbar": {
             "outlinewidth": 0,
             "ticks": ""
            },
            "type": "mesh3d"
           }
          ],
          "parcoords": [
           {
            "line": {
             "colorbar": {
              "outlinewidth": 0,
              "ticks": ""
             }
            },
            "type": "parcoords"
           }
          ],
          "pie": [
           {
            "automargin": true,
            "type": "pie"
           }
          ],
          "scatter": [
           {
            "fillpattern": {
             "fillmode": "overlay",
             "size": 10,
             "solidity": 0.2
            },
            "type": "scatter"
           }
          ],
          "scatter3d": [
           {
            "line": {
             "colorbar": {
              "outlinewidth": 0,
              "ticks": ""
             }
            },
            "marker": {
             "colorbar": {
              "outlinewidth": 0,
              "ticks": ""
             }
            },
            "type": "scatter3d"
           }
          ],
          "scattercarpet": [
           {
            "marker": {
             "colorbar": {
              "outlinewidth": 0,
              "ticks": ""
             }
            },
            "type": "scattercarpet"
           }
          ],
          "scattergeo": [
           {
            "marker": {
             "colorbar": {
              "outlinewidth": 0,
              "ticks": ""
             }
            },
            "type": "scattergeo"
           }
          ],
          "scattergl": [
           {
            "marker": {
             "colorbar": {
              "outlinewidth": 0,
              "ticks": ""
             }
            },
            "type": "scattergl"
           }
          ],
          "scattermapbox": [
           {
            "marker": {
             "colorbar": {
              "outlinewidth": 0,
              "ticks": ""
             }
            },
            "type": "scattermapbox"
           }
          ],
          "scatterpolar": [
           {
            "marker": {
             "colorbar": {
              "outlinewidth": 0,
              "ticks": ""
             }
            },
            "type": "scatterpolar"
           }
          ],
          "scatterpolargl": [
           {
            "marker": {
             "colorbar": {
              "outlinewidth": 0,
              "ticks": ""
             }
            },
            "type": "scatterpolargl"
           }
          ],
          "scatterternary": [
           {
            "marker": {
             "colorbar": {
              "outlinewidth": 0,
              "ticks": ""
             }
            },
            "type": "scatterternary"
           }
          ],
          "surface": [
           {
            "colorbar": {
             "outlinewidth": 0,
             "ticks": ""
            },
            "colorscale": [
             [
              0,
              "#0d0887"
             ],
             [
              0.1111111111111111,
              "#46039f"
             ],
             [
              0.2222222222222222,
              "#7201a8"
             ],
             [
              0.3333333333333333,
              "#9c179e"
             ],
             [
              0.4444444444444444,
              "#bd3786"
             ],
             [
              0.5555555555555556,
              "#d8576b"
             ],
             [
              0.6666666666666666,
              "#ed7953"
             ],
             [
              0.7777777777777778,
              "#fb9f3a"
             ],
             [
              0.8888888888888888,
              "#fdca26"
             ],
             [
              1,
              "#f0f921"
             ]
            ],
            "type": "surface"
           }
          ],
          "table": [
           {
            "cells": {
             "fill": {
              "color": "#EBF0F8"
             },
             "line": {
              "color": "white"
             }
            },
            "header": {
             "fill": {
              "color": "#C8D4E3"
             },
             "line": {
              "color": "white"
             }
            },
            "type": "table"
           }
          ]
         },
         "layout": {
          "annotationdefaults": {
           "arrowcolor": "#2a3f5f",
           "arrowhead": 0,
           "arrowwidth": 1
          },
          "autotypenumbers": "strict",
          "coloraxis": {
           "colorbar": {
            "outlinewidth": 0,
            "ticks": ""
           }
          },
          "colorscale": {
           "diverging": [
            [
             0,
             "#8e0152"
            ],
            [
             0.1,
             "#c51b7d"
            ],
            [
             0.2,
             "#de77ae"
            ],
            [
             0.3,
             "#f1b6da"
            ],
            [
             0.4,
             "#fde0ef"
            ],
            [
             0.5,
             "#f7f7f7"
            ],
            [
             0.6,
             "#e6f5d0"
            ],
            [
             0.7,
             "#b8e186"
            ],
            [
             0.8,
             "#7fbc41"
            ],
            [
             0.9,
             "#4d9221"
            ],
            [
             1,
             "#276419"
            ]
           ],
           "sequential": [
            [
             0,
             "#0d0887"
            ],
            [
             0.1111111111111111,
             "#46039f"
            ],
            [
             0.2222222222222222,
             "#7201a8"
            ],
            [
             0.3333333333333333,
             "#9c179e"
            ],
            [
             0.4444444444444444,
             "#bd3786"
            ],
            [
             0.5555555555555556,
             "#d8576b"
            ],
            [
             0.6666666666666666,
             "#ed7953"
            ],
            [
             0.7777777777777778,
             "#fb9f3a"
            ],
            [
             0.8888888888888888,
             "#fdca26"
            ],
            [
             1,
             "#f0f921"
            ]
           ],
           "sequentialminus": [
            [
             0,
             "#0d0887"
            ],
            [
             0.1111111111111111,
             "#46039f"
            ],
            [
             0.2222222222222222,
             "#7201a8"
            ],
            [
             0.3333333333333333,
             "#9c179e"
            ],
            [
             0.4444444444444444,
             "#bd3786"
            ],
            [
             0.5555555555555556,
             "#d8576b"
            ],
            [
             0.6666666666666666,
             "#ed7953"
            ],
            [
             0.7777777777777778,
             "#fb9f3a"
            ],
            [
             0.8888888888888888,
             "#fdca26"
            ],
            [
             1,
             "#f0f921"
            ]
           ]
          },
          "colorway": [
           "#636efa",
           "#EF553B",
           "#00cc96",
           "#ab63fa",
           "#FFA15A",
           "#19d3f3",
           "#FF6692",
           "#B6E880",
           "#FF97FF",
           "#FECB52"
          ],
          "font": {
           "color": "#2a3f5f"
          },
          "geo": {
           "bgcolor": "white",
           "lakecolor": "white",
           "landcolor": "#E5ECF6",
           "showlakes": true,
           "showland": true,
           "subunitcolor": "white"
          },
          "hoverlabel": {
           "align": "left"
          },
          "hovermode": "closest",
          "mapbox": {
           "style": "light"
          },
          "paper_bgcolor": "white",
          "plot_bgcolor": "#E5ECF6",
          "polar": {
           "angularaxis": {
            "gridcolor": "white",
            "linecolor": "white",
            "ticks": ""
           },
           "bgcolor": "#E5ECF6",
           "radialaxis": {
            "gridcolor": "white",
            "linecolor": "white",
            "ticks": ""
           }
          },
          "scene": {
           "xaxis": {
            "backgroundcolor": "#E5ECF6",
            "gridcolor": "white",
            "gridwidth": 2,
            "linecolor": "white",
            "showbackground": true,
            "ticks": "",
            "zerolinecolor": "white"
           },
           "yaxis": {
            "backgroundcolor": "#E5ECF6",
            "gridcolor": "white",
            "gridwidth": 2,
            "linecolor": "white",
            "showbackground": true,
            "ticks": "",
            "zerolinecolor": "white"
           },
           "zaxis": {
            "backgroundcolor": "#E5ECF6",
            "gridcolor": "white",
            "gridwidth": 2,
            "linecolor": "white",
            "showbackground": true,
            "ticks": "",
            "zerolinecolor": "white"
           }
          },
          "shapedefaults": {
           "line": {
            "color": "#2a3f5f"
           }
          },
          "ternary": {
           "aaxis": {
            "gridcolor": "white",
            "linecolor": "white",
            "ticks": ""
           },
           "baxis": {
            "gridcolor": "white",
            "linecolor": "white",
            "ticks": ""
           },
           "bgcolor": "#E5ECF6",
           "caxis": {
            "gridcolor": "white",
            "linecolor": "white",
            "ticks": ""
           }
          },
          "title": {
           "x": 0.05
          },
          "xaxis": {
           "automargin": true,
           "gridcolor": "white",
           "linecolor": "white",
           "ticks": "",
           "title": {
            "standoff": 15
           },
           "zerolinecolor": "white",
           "zerolinewidth": 2
          },
          "yaxis": {
           "automargin": true,
           "gridcolor": "white",
           "linecolor": "white",
           "ticks": "",
           "title": {
            "standoff": 15
           },
           "zerolinecolor": "white",
           "zerolinewidth": 2
          }
         }
        }
       }
      }
     },
     "metadata": {},
     "output_type": "display_data"
    }
   ],
   "source": [
    "# Se grafica el embudo\n",
    "\n",
    "fig = go.Figure(go.Funnel(y = embudo_ofertas['event_name'], x = embudo_ofertas['cantidad'], textinfo = \"value+percent initial\"))\n",
    "fig.show()"
   ]
  },
  {
   "cell_type": "markdown",
   "metadata": {},
   "source": [
    "Se puede observar que se pierde la mayoría de usuarios en la transición del primer al segundo evento (en ambos embudos). Aun así hay muchos usuarios pasan por todos los eventos llegando al último (el pago), un 47.7% de los usuarios que inician el proceso para ser exactos."
   ]
  },
  {
   "cell_type": "markdown",
   "metadata": {},
   "source": [
    "## Estudio de los resultados"
   ]
  },
  {
   "cell_type": "markdown",
   "metadata": {},
   "source": [
    "Se vuelve a observar el número de usuarios que hay en cada grupo experimental."
   ]
  },
  {
   "cell_type": "code",
   "execution_count": 30,
   "metadata": {},
   "outputs": [
    {
     "name": "stdout",
     "output_type": "stream",
     "text": [
      "exp_id\n",
      "246    2484\n",
      "247    2513\n",
      "248    2537\n",
      "Name: device_id_hash, dtype: int64\n"
     ]
    }
   ],
   "source": [
    "# Se muestra el número de usuarios por grupo\n",
    "\n",
    "print(df_filtered.groupby('exp_id')['device_id_hash'].nunique())"
   ]
  },
  {
   "cell_type": "markdown",
   "metadata": {},
   "source": [
    "En las pruebas A/B (más específicamente la prueba A/A/B) que se harán a continuación se realizarán para comprobar si la diferencia entre los grupos es estadísticamente significativa en cuanto a la proporción de usuarios que realizaron cada una de las acciones.\n",
    "\n",
    "Se crea una función para realizar todas las pruebas del estadístico Z (A1/A2, A1/B y A2/B) e imprimir todos los resultados."
   ]
  },
  {
   "cell_type": "code",
   "execution_count": 31,
   "metadata": {},
   "outputs": [],
   "source": [
    "# Se crea la función para las pruebas A/B\n",
    "\n",
    "def test(dfA, dfB, alfa):\n",
    "    \n",
    "    events = ['MainScreenAppear', 'OffersScreenAppear', 'CartScreenAppear', 'PaymentScreenSuccessful']\n",
    "    results = []\n",
    "    \n",
    "    for event in events:\n",
    "        \n",
    "        dfA_event = dfA[dfA['event_name'] == event]\n",
    "        dfB_event = dfB[dfB['event_name'] == event]\n",
    "        \n",
    "        dfA_event = dfA_event.groupby('device_id_hash')['event_name'].nunique()\n",
    "        dfB_event = dfB_event.groupby('device_id_hash')['event_name'].nunique()\n",
    "        \n",
    "        users_dfA = dfA['device_id_hash'].nunique()\n",
    "        users_dfB = dfB['device_id_hash'].nunique()\n",
    "\n",
    "        users_event_dfA = len(dfA_event)\n",
    "        users_event_dfB = len(dfB_event)\n",
    "\n",
    "        p1 = users_event_dfA / users_dfA\n",
    "        p2 = users_event_dfB / users_dfB\n",
    "        p_combined = (users_event_dfA + users_event_dfB) / (users_dfA + users_dfB)\n",
    "\n",
    "        z = (p1 - p2) / mth.sqrt(p_combined * (1 - p_combined) * ((1 / users_dfA) + (1 / users_dfB)))\n",
    "        distr = st.norm(0, 1)\n",
    "        p_value = (1 - distr.cdf(abs(z))) * 2\n",
    "\n",
    "        print('Prueba para el evento --', event, '--')\n",
    "        print()\n",
    "        print('Proporción de usuarios que realizaron esta acción:')\n",
    "        print('Grupo 1 =', round(p1, 5), '(', round(p1 * 100, 2), '% )')\n",
    "        print('Grupo 2 =', round(p2, 5), '(', round(p2 * 100, 2), '% )')\n",
    "        print()\n",
    "        print('Valor p =', p_value.round(5), '(', (p_value * 100).round(2), '% )')\n",
    "        print()\n",
    "        if p_value < alfa:\n",
    "            print(\"Rechazar la hipótesis nula: hay una diferencia significativa entre las proporciones\")\n",
    "        else:\n",
    "            print(\"No se pudo rechazar la hipótesis nula: no hay razón para pensar que las proporciones son diferentes\")\n",
    "        print()\n",
    "        print()\n",
    "        \n",
    "    #return results"
   ]
  },
  {
   "cell_type": "markdown",
   "metadata": {},
   "source": [
    "### Prueba A1/A2"
   ]
  },
  {
   "cell_type": "markdown",
   "metadata": {},
   "source": [
    "En esta prueba compararemos los dos grupos de control para comprobar nuestros mecanismos y cálculos. En este caso se compararán los grupos de control 246 y 247.\n",
    "\n",
    "El valor p del estadístico Z se comparará con un valor alfa de 0.05 (5%)"
   ]
  },
  {
   "cell_type": "code",
   "execution_count": 32,
   "metadata": {},
   "outputs": [
    {
     "name": "stdout",
     "output_type": "stream",
     "text": [
      "Prueba para el evento -- MainScreenAppear --\n",
      "\n",
      "Proporción de usuarios que realizaron esta acción:\n",
      "Grupo 1 = 0.98631 ( 98.63 % )\n",
      "Grupo 2 = 0.98528 ( 98.53 % )\n",
      "\n",
      "Valor p = 0.75706 ( 75.71 % )\n",
      "\n",
      "No se pudo rechazar la hipótesis nula: no hay razón para pensar que las proporciones son diferentes\n",
      "\n",
      "\n",
      "Prueba para el evento -- OffersScreenAppear --\n",
      "\n",
      "Proporción de usuarios que realizaron esta acción:\n",
      "Grupo 1 = 0.62077 ( 62.08 % )\n",
      "Grupo 2 = 0.60485 ( 60.49 % )\n",
      "\n",
      "Valor p = 0.2481 ( 24.81 % )\n",
      "\n",
      "No se pudo rechazar la hipótesis nula: no hay razón para pensar que las proporciones son diferentes\n",
      "\n",
      "\n",
      "Prueba para el evento -- CartScreenAppear --\n",
      "\n",
      "Proporción de usuarios que realizaron esta acción:\n",
      "Grupo 1 = 0.50966 ( 50.97 % )\n",
      "Grupo 2 = 0.49264 ( 49.26 % )\n",
      "\n",
      "Valor p = 0.22883 ( 22.88 % )\n",
      "\n",
      "No se pudo rechazar la hipótesis nula: no hay razón para pensar que las proporciones son diferentes\n",
      "\n",
      "\n",
      "Prueba para el evento -- PaymentScreenSuccessful --\n",
      "\n",
      "Proporción de usuarios que realizaron esta acción:\n",
      "Grupo 1 = 0.48309 ( 48.31 % )\n",
      "Grupo 2 = 0.4608 ( 46.08 % )\n",
      "\n",
      "Valor p = 0.11457 ( 11.46 % )\n",
      "\n",
      "No se pudo rechazar la hipótesis nula: no hay razón para pensar que las proporciones son diferentes\n",
      "\n",
      "\n"
     ]
    }
   ],
   "source": [
    "# Se saca la información de los grupos 246 (A1) y 247 (A2)\n",
    "\n",
    "A1 = df_filtered[df_filtered['exp_id'] == 246]\n",
    "A2 = df_filtered[df_filtered['exp_id'] == 247]\n",
    "\n",
    "# Se realiza la prueba\n",
    "\n",
    "prueba_A1A2 = test(A1, A2, .05)"
   ]
  },
  {
   "cell_type": "markdown",
   "metadata": {},
   "source": [
    "Al no poder rechazar ninguna de las hipótesis en cada uno de los eventos comparados, se determina que los grupos se dividieron correctamente y que la diferencia entre los grupos no es estadísticamente significativa."
   ]
  },
  {
   "cell_type": "markdown",
   "metadata": {},
   "source": [
    "### Prueba A1/B"
   ]
  },
  {
   "cell_type": "markdown",
   "metadata": {},
   "source": [
    "En esta prueba compararemos el grupo de control 246 con el grupo con fuentes alteradas 248.\n",
    "\n",
    "El valor p del estadístico Z se comparará con un valor alfa de 0.05 (5%)"
   ]
  },
  {
   "cell_type": "code",
   "execution_count": 33,
   "metadata": {},
   "outputs": [
    {
     "name": "stdout",
     "output_type": "stream",
     "text": [
      "Prueba para el evento -- MainScreenAppear --\n",
      "\n",
      "Proporción de usuarios que realizaron esta acción:\n",
      "Grupo 1 = 0.98631 ( 98.63 % )\n",
      "Grupo 2 = 0.98266 ( 98.27 % )\n",
      "\n",
      "Valor p = 0.29497 ( 29.5 % )\n",
      "\n",
      "No se pudo rechazar la hipótesis nula: no hay razón para pensar que las proporciones son diferentes\n",
      "\n",
      "\n",
      "Prueba para el evento -- OffersScreenAppear --\n",
      "\n",
      "Proporción de usuarios que realizaron esta acción:\n",
      "Grupo 1 = 0.62077 ( 62.08 % )\n",
      "Grupo 2 = 0.60347 ( 60.35 % )\n",
      "\n",
      "Valor p = 0.20836 ( 20.84 % )\n",
      "\n",
      "No se pudo rechazar la hipótesis nula: no hay razón para pensar que las proporciones son diferentes\n",
      "\n",
      "\n",
      "Prueba para el evento -- CartScreenAppear --\n",
      "\n",
      "Proporción de usuarios que realizaron esta acción:\n",
      "Grupo 1 = 0.50966 ( 50.97 % )\n",
      "Grupo 2 = 0.48482 ( 48.48 % )\n",
      "\n",
      "Valor p = 0.07843 ( 7.84 % )\n",
      "\n",
      "No se pudo rechazar la hipótesis nula: no hay razón para pensar que las proporciones son diferentes\n",
      "\n",
      "\n",
      "Prueba para el evento -- PaymentScreenSuccessful --\n",
      "\n",
      "Proporción de usuarios que realizaron esta acción:\n",
      "Grupo 1 = 0.48309 ( 48.31 % )\n",
      "Grupo 2 = 0.46551 ( 46.55 % )\n",
      "\n",
      "Valor p = 0.21226 ( 21.23 % )\n",
      "\n",
      "No se pudo rechazar la hipótesis nula: no hay razón para pensar que las proporciones son diferentes\n",
      "\n",
      "\n"
     ]
    }
   ],
   "source": [
    "# Se saca la información del grupo 248 (B)\n",
    "\n",
    "B = df_filtered[df_filtered['exp_id'] == 248]\n",
    "\n",
    "# Se realiza la prueba\n",
    "\n",
    "prueba_A1B = test(A1, B, .05)"
   ]
  },
  {
   "cell_type": "markdown",
   "metadata": {},
   "source": [
    "A pesar de que los valores de p se acercaban un poco más al valor del nivel de significancia (alfa), al no poder rechazar ninguna de las hipótesis en cada uno de los eventos comparados, se determina que la diferencia entre los grupos no es estadísticamente significativa."
   ]
  },
  {
   "cell_type": "markdown",
   "metadata": {},
   "source": [
    "### Prueba A2/B"
   ]
  },
  {
   "cell_type": "markdown",
   "metadata": {},
   "source": [
    "En esta prueba compararemos el grupo de control 247 con el grupo con fuentes alteradas 248.\n",
    "\n",
    "El valor p del estadístico Z se comparará con un valor alfa de 0.05 (5%)"
   ]
  },
  {
   "cell_type": "code",
   "execution_count": 34,
   "metadata": {},
   "outputs": [
    {
     "name": "stdout",
     "output_type": "stream",
     "text": [
      "Prueba para el evento -- MainScreenAppear --\n",
      "\n",
      "Proporción de usuarios que realizaron esta acción:\n",
      "Grupo 1 = 0.98528 ( 98.53 % )\n",
      "Grupo 2 = 0.98266 ( 98.27 % )\n",
      "\n",
      "Valor p = 0.45871 ( 45.87 % )\n",
      "\n",
      "No se pudo rechazar la hipótesis nula: no hay razón para pensar que las proporciones son diferentes\n",
      "\n",
      "\n",
      "Prueba para el evento -- OffersScreenAppear --\n",
      "\n",
      "Proporción de usuarios que realizaron esta acción:\n",
      "Grupo 1 = 0.60485 ( 60.49 % )\n",
      "Grupo 2 = 0.60347 ( 60.35 % )\n",
      "\n",
      "Valor p = 0.91978 ( 91.98 % )\n",
      "\n",
      "No se pudo rechazar la hipótesis nula: no hay razón para pensar que las proporciones son diferentes\n",
      "\n",
      "\n",
      "Prueba para el evento -- CartScreenAppear --\n",
      "\n",
      "Proporción de usuarios que realizaron esta acción:\n",
      "Grupo 1 = 0.49264 ( 49.26 % )\n",
      "Grupo 2 = 0.48482 ( 48.48 % )\n",
      "\n",
      "Valor p = 0.57862 ( 57.86 % )\n",
      "\n",
      "No se pudo rechazar la hipótesis nula: no hay razón para pensar que las proporciones son diferentes\n",
      "\n",
      "\n",
      "Prueba para el evento -- PaymentScreenSuccessful --\n",
      "\n",
      "Proporción de usuarios que realizaron esta acción:\n",
      "Grupo 1 = 0.4608 ( 46.08 % )\n",
      "Grupo 2 = 0.46551 ( 46.55 % )\n",
      "\n",
      "Valor p = 0.73734 ( 73.73 % )\n",
      "\n",
      "No se pudo rechazar la hipótesis nula: no hay razón para pensar que las proporciones son diferentes\n",
      "\n",
      "\n"
     ]
    }
   ],
   "source": [
    "# Se realiza la prueba\n",
    "\n",
    "prueba_A2B = test(A2, B, .05)"
   ]
  },
  {
   "cell_type": "markdown",
   "metadata": {},
   "source": [
    "En esta comparación los valores de p se alejaban mucho del nivel de significancia (alfa), al no poder rechazar ninguna de las hipótesis en cada uno de los eventos comparados, se determina que la diferencia entre los grupos no es estadísticamente significativa."
   ]
  },
  {
   "cell_type": "markdown",
   "metadata": {},
   "source": [
    "## Conclusión general"
   ]
  },
  {
   "cell_type": "markdown",
   "metadata": {},
   "source": [
    "Sabemos que al hacer varias comparaciones con los mismos datos (pruebas múltiples) la probabilidad de cometer un error tipo I aumenta con cada nueva prueba de hipótesis (la probabilidad de que la prueba produzca un resultado falso positivo). Esto nos obliga a ajustar el nivel de significancia global de un conjunto de pruebas cuando llevamos a cabo comparaciones múltiples.\n",
    "\n",
    "Pero como en todas las pruebas no se pudo rechazar ninguna hipótesis nula, no es necesario ajustar el nivel de significancia, ya que al hacerlo se disminuye el valor de alfa alejándose aún más de los valores p de cada prueba, ratificando aún más la posible nula diferencia entre las proporciones de los grupos experimentales.\n",
    "\n",
    "Por lo tanto se concluye que los cambios de las fuentes de toda la aplicación realizados por el equipo de diseño no tuvieron ningún impacto en el comportamiento de los usuarios."
   ]
  }
 ],
 "metadata": {
  "kernelspec": {
   "display_name": "base",
   "language": "python",
   "name": "python3"
  },
  "language_info": {
   "codemirror_mode": {
    "name": "ipython",
    "version": 3
   },
   "file_extension": ".py",
   "mimetype": "text/x-python",
   "name": "python",
   "nbconvert_exporter": "python",
   "pygments_lexer": "ipython3",
   "version": "3.12.7"
  }
 },
 "nbformat": 4,
 "nbformat_minor": 4
}
